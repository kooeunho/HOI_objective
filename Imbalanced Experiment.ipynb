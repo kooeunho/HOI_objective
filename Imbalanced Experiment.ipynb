{
 "cells": [
  {
   "cell_type": "code",
   "execution_count": null,
   "id": "52a9c1c3-910f-4484-8bd4-662be7fa0475",
   "metadata": {},
   "outputs": [],
   "source": [
    "import numpy as np\n",
    "import torch\n",
    "from function import *\n",
    "\n",
    "device = torch.device(\"cuda:1\" if torch.cuda.is_available() else \"cpu\")\n",
    "\n",
    "# number of nodes in each cluster.\n",
    "n_units = [300, 300, 100, 100, 100, 100]\n",
    "\n",
    "# number of clusters or labels\n",
    "n_L = len(n_units)\n",
    "\n",
    "# w_k in the objective function is defined by w_k = alpha ^ (k-1)\n",
    "# exp_base below indicates alpha\n",
    "# the value can be varied.\n",
    "exp_base = 1\n",
    "\n",
    "# learning rate\n",
    "lr = 0.4\n",
    "\n",
    "epochs = 10\n",
    "\n",
    "# All probability parameter values (p2, q2, p3_1, p3_2, q3, ....)  can be adjusted\n",
    "# Diagonals of B_2 are all p2, and off-diagonals are all q2\n",
    "p2 = 0.01\n",
    "q2 = 0.001\n",
    "\n",
    "# Diagonals of B_3 is set to [p3_1, p3_1, p3_2, p3_2, p3_2, p3_2], and off-diagonals are all q3\n",
    "p3_1 = 0.03\n",
    "p3_2 = 0.06\n",
    "p3 = [p3_1] * 2 + [p3_2] * 4\n",
    "q3 = 0.006\n",
    "\n",
    "# Diagonals of B_4 is set to [p4_1, p4_1, p4_2, p4_2, p4_2, p4_2], and off-diagonals are all q4\n",
    "p4_1 = 0.04\n",
    "p4_2 = 0.08\n",
    "p4 = [p4_1] * 2 + [p4_2] * 4\n",
    "q4 = 0.008\n",
    "\n",
    "# Diagonals of B_5 is set to [p5_1, p5_1, p5_2, p5_2, p5_2, p5_2], and off-diagonals are all q5\n",
    "p5_1 = 0.11\n",
    "p5_2 = 0.17\n",
    "p5 = [p5_1] * 2 + [p5_2] * 4\n",
    "q5 = 0.017\n",
    "\n",
    "# Create from B_2 to B_5\n",
    "prob_mat2 = np.full((n_L, n_L), q2)\n",
    "np.fill_diagonal(prob_mat2, p2)\n",
    "\n",
    "prob_mat3 = np.full((n_L, n_L), q3)\n",
    "np.fill_diagonal(prob_mat3, p3)\n",
    "\n",
    "prob_mat4 = np.full((n_L, n_L), q4)\n",
    "np.fill_diagonal(prob_mat4, p4)\n",
    "\n",
    "prob_mat5 = np.full((n_L, n_L), q5)\n",
    "np.fill_diagonal(prob_mat5, p5)\n",
    "\n",
    "# Generate networks using SBTM up to 5 cliques\n",
    "# G: Graph generated using networkx\n",
    "# simplices: All cliques (simplices) in the network\n",
    "# classes: A list of length n_L. classes[i] includes all node with label i\n",
    "# labels: labels for all nodes from 1 to N where N is the number of nodes\n",
    "G, simplices, classes, labels = generation_upto_5cliques(prob_mat2, prob_mat3, prob_mat4, prob_mat5, n_units)\n",
    "\n",
    "# Initialize probability distribution of all nodes using the equilibrium measure\n",
    "# initial_data: Nxl matrix where N is the number of nodes and l is the number of clusters or labels in the network\n",
    "# initial_pred: argmax applied (to each row in initial_data) N-dimensionial vectors\n",
    "# x_known: label-aware nodes and their one-hot label representations\n",
    "# BP: prior information ratio\n",
    "BP = 0.01\n",
    "initial_data, initial_pred, x_known = initialization(G, classes, simplices, BP)\n",
    "\n",
    "# final_P: predicted Nxl matrix\n",
    "# pred: argmax applied (to each row in final_P) N-dimensionial vectors\n",
    "final_P, pred = training(epochs, device, simplices, initial_data, x_known, lr, exp_base)"
   ]
  },
  {
   "cell_type": "code",
   "execution_count": null,
   "id": "08e17796-83df-4320-a4f6-681252695a89",
   "metadata": {},
   "outputs": [],
   "source": []
  },
  {
   "cell_type": "code",
   "execution_count": null,
   "id": "b34d7eed-e4ca-4551-b597-321e25c98ec3",
   "metadata": {},
   "outputs": [],
   "source": []
  },
  {
   "cell_type": "code",
   "execution_count": null,
   "id": "1418944b-1368-4fdc-9d92-4d6becf3669a",
   "metadata": {},
   "outputs": [],
   "source": []
  },
  {
   "cell_type": "code",
   "execution_count": null,
   "id": "1f77bc37-f827-4923-b260-b4f716ad5bbc",
   "metadata": {},
   "outputs": [],
   "source": []
  },
  {
   "cell_type": "code",
   "execution_count": null,
   "id": "84d85d26-e471-4cb3-8ec5-7190268402f2",
   "metadata": {},
   "outputs": [],
   "source": []
  },
  {
   "cell_type": "code",
   "execution_count": null,
   "id": "47525cca-70b8-4518-bdcc-25ff2aa201e7",
   "metadata": {},
   "outputs": [],
   "source": []
  },
  {
   "cell_type": "code",
   "execution_count": null,
   "id": "7ba728d9-648c-4d52-8d72-e2e91e322e56",
   "metadata": {},
   "outputs": [],
   "source": []
  },
  {
   "cell_type": "code",
   "execution_count": null,
   "id": "7fc40029-d520-464b-9ecc-6dfcf6929ad1",
   "metadata": {},
   "outputs": [],
   "source": []
  },
  {
   "cell_type": "code",
   "execution_count": null,
   "id": "4baa2048-2239-4e10-ab0c-abee520d0c67",
   "metadata": {},
   "outputs": [],
   "source": []
  },
  {
   "cell_type": "code",
   "execution_count": null,
   "id": "f1dcfc3e-a6f2-469f-8e28-33af7c9c6069",
   "metadata": {},
   "outputs": [],
   "source": []
  },
  {
   "cell_type": "code",
   "execution_count": null,
   "id": "4b066b3b-3e45-4070-bd02-59603d8a52f8",
   "metadata": {},
   "outputs": [],
   "source": []
  }
 ],
 "metadata": {
  "kernelspec": {
   "display_name": "Python 3 (ipykernel)",
   "language": "python",
   "name": "python3"
  },
  "language_info": {
   "codemirror_mode": {
    "name": "ipython",
    "version": 3
   },
   "file_extension": ".py",
   "mimetype": "text/x-python",
   "name": "python",
   "nbconvert_exporter": "python",
   "pygments_lexer": "ipython3",
   "version": "3.11.7"
  }
 },
 "nbformat": 4,
 "nbformat_minor": 5
}
